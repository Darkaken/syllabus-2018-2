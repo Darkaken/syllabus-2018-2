{
 "cells": [
  {
   "cell_type": "markdown",
   "metadata": {},
   "source": [
    "### Paths"
   ]
  },
  {
   "cell_type": "code",
   "execution_count": null,
   "metadata": {},
   "outputs": [],
   "source": [
    "import os"
   ]
  },
  {
   "cell_type": "code",
   "execution_count": null,
   "metadata": {},
   "outputs": [],
   "source": [
    "# Path absoluto hasta la carpeta en la que me encuentro actualmente\n",
    "\n",
    "os.getcwd()"
   ]
  },
  {
   "cell_type": "code",
   "execution_count": null,
   "metadata": {},
   "outputs": [],
   "source": [
    "# Todas las carpetas y archivos en dentro de nuestro directorio actual\n",
    "\n",
    "os.listdir()"
   ]
  },
  {
   "cell_type": "markdown",
   "metadata": {},
   "source": [
    "### Bytes"
   ]
  },
  {
   "cell_type": "code",
   "execution_count": null,
   "metadata": {},
   "outputs": [],
   "source": [
    "normal_bytes = b'estos son bytes'\n",
    "print(type(normal_bytes))\n",
    "\n",
    "normal_bytes[0] = \"E\""
   ]
  },
  {
   "cell_type": "code",
   "execution_count": null,
   "metadata": {},
   "outputs": [],
   "source": [
    "binario = \"{0:b}\".format(6)\n",
    "print('Esto --> {} es 6 en binario'.format(binario))\n",
    "\n",
    "byte = binario.zfill(8)\n",
    "print('Estos --> {} son 8 bits (un byte) con valor decimal 6'.format(byte))"
   ]
  },
  {
   "cell_type": "code",
   "execution_count": null,
   "metadata": {
    "scrolled": true
   },
   "outputs": [],
   "source": [
    "# Convertimos nuestros bytes a bytearray\n",
    "\n",
    "b_array = bytearray(normal_bytes)\n",
    "print(type(b_array), ' --> ', b_array)\n",
    "\n",
    "b_array[0] = ord('E')\n",
    "print(b_array)"
   ]
  },
  {
   "cell_type": "markdown",
   "metadata": {},
   "source": [
    "### Strings"
   ]
  },
  {
   "cell_type": "code",
   "execution_count": null,
   "metadata": {},
   "outputs": [],
   "source": [
    "# format vs. f-strings\n",
    "\n",
    "curso = 'IIC2233'\n",
    "f_str = f'Me encanta {curso}!'\n",
    "format_str = 'Me encanta {}!'.format(curso)\n",
    "print('Este es un f-string --> ', f_str)\n",
    "print('Este es un string formateado con format --> ', format_str)"
   ]
  },
  {
   "cell_type": "code",
   "execution_count": null,
   "metadata": {
    "scrolled": false
   },
   "outputs": [],
   "source": [
    "test = 'Esto es un string'\n",
    "test_2 = test.replace('s', '~')\n",
    "print(test)\n",
    "print(test_2)\n",
    "\n",
    "test[0] = 'A'"
   ]
  },
  {
   "cell_type": "markdown",
   "metadata": {},
   "source": [
    "### Ejercicio\n",
    "\n",
    "Transforma los caracteres del string \"wubbalubbadubdub\" a ASCII, luego a bytes, invierte los bytes e imprime el string invertido."
   ]
  },
  {
   "cell_type": "code",
   "execution_count": null,
   "metadata": {},
   "outputs": [],
   "source": [
    "my_str = \"wubbalubbadubdub\"\n",
    "\n",
    "ascii_val = [ord(c) for c in my_str]\n",
    "print('Valores ASCII --> ', ascii_val)\n",
    "\n",
    "ascii_bytearray = bytearray(ascii_val)\n",
    "print('Nuestros bytes --> ', ascii_bytearray)\n",
    "\n",
    "ascii_bytearray = ascii_bytearray[::-1]\n",
    "decoded_str = ascii_bytearray.decode('ascii')\n",
    "print('Nuestro string invertido --> ', decoded_str)"
   ]
  }
 ],
 "metadata": {
  "kernelspec": {
   "display_name": "Python 3",
   "language": "python",
   "name": "python3"
  },
  "language_info": {
   "codemirror_mode": {
    "name": "ipython",
    "version": 3
   },
   "file_extension": ".py",
   "mimetype": "text/x-python",
   "name": "python",
   "nbconvert_exporter": "python",
   "pygments_lexer": "ipython3",
   "version": "3.6.5"
  }
 },
 "nbformat": 4,
 "nbformat_minor": 2
}
