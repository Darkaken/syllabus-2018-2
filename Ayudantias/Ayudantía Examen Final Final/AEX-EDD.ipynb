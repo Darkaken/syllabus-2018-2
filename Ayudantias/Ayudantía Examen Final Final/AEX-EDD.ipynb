{
 "cells": [
  {
   "cell_type": "markdown",
   "metadata": {},
   "source": [
    "# Ejercicio Grafos"
   ]
  },
  {
   "cell_type": "markdown",
   "metadata": {},
   "source": [
    "## Arbol Prefix"
   ]
  },
  {
   "cell_type": "markdown",
   "metadata": {},
   "source": [
    "Problema: \"Dado un texto de largo n, les pido que para cualquier texto que yo entregue, me digan rápidamente cuántas veces se repite el substring dentro del texto, si no no podré dormir tranquilo por el resto de mis días\"\n",
    "\n",
    "Solución: árbol de sufijos"
   ]
  },
  {
   "cell_type": "code",
   "execution_count": null,
   "metadata": {},
   "outputs": [],
   "source": [
    "class Node:\n",
    "    ID = 0\n",
    "\n",
    "    def __init__(self):\n",
    "        self.passed = 0\n",
    "        self.childs = {}\n",
    "        self.id = Node.ID\n",
    "        Node.ID += 1\n",
    "\n",
    "    def add_child(self, child):\n",
    "        self.passed += 1\n",
    "        if len(child) > 0:\n",
    "            if child[0] in self.childs:\n",
    "                self.childs[child[0]].add_child(child[1:])\n",
    "            else:\n",
    "                new = Node()\n",
    "                self.childs[child[0]] = new\n",
    "                new.add_child(child[1:])\n",
    "\n",
    "    def ask_substring(self, substring):\n",
    "        if len(substring) > 0 and substring[0] not in self.childs:\n",
    "            return 0\n",
    "        if len(substring) == 1:\n",
    "            return self.childs[substring[0]].passed\n",
    "        else:\n",
    "            return self.childs[substring[0]].ask_substring(substring[1:])\n",
    "\n",
    "    def __repr__(self):\n",
    "        return str(self.id)+\":\"+str(self.childs)"
   ]
  },
  {
   "cell_type": "code",
   "execution_count": null,
   "metadata": {},
   "outputs": [],
   "source": [
    "class SuffixTree:\n",
    "\n",
    "    def __init__(self, word):\n",
    "        self.childs = {}\n",
    "        for i in range(len(word)):\n",
    "            self.__add_suffix(word[i:])\n",
    "\n",
    "    def __add_suffix(self, suffix):\n",
    "        if suffix[0] in self.childs:\n",
    "            self.childs[suffix[0]].add_child(suffix[1:])\n",
    "        else:\n",
    "            new = Node()\n",
    "            self.childs[suffix[0]] = new\n",
    "            new.add_child(suffix[1:])\n",
    "\n",
    "    def count_aparitions(self, substring):\n",
    "        if len(substring) == 0:\n",
    "            return \"Texto invalido\"\n",
    "        elif len(substring) == 1 and substring in self.childs:\n",
    "            return \"El substring {} aparece {} veces\".format(substring, self.childs[substring[0]].passed)\n",
    "        elif substring[0] not in self.childs:\n",
    "            return \"El substring {} aparece 0 veces\".format(substring)\n",
    "        number = self.childs[substring[0]].ask_substring(substring[1:])\n",
    "        return \"El substring {} aparece {} veces\".format(substring, number)\n",
    "\n",
    "    def sprint(self):\n",
    "        for child in self.childs:\n",
    "            print(child+\":\", self.childs[child])\n",
    "\n",
    "    def __repr__(self):\n",
    "        return \"Root Node\""
   ]
  },
  {
   "cell_type": "code",
   "execution_count": null,
   "metadata": {},
   "outputs": [],
   "source": [
    "tree = SuffixTree(\"mapapar\")\n",
    "print(tree)\n",
    "tree.sprint()\n",
    "print(len(tree.childs))\n",
    "print(\"P:\", tree.childs[\"p\"].passed)\n",
    "print(\"A:\", tree.childs[\"a\"].passed)\n",
    "print(tree.count_aparitions(\"ap\"))\n",
    "print(tree.count_aparitions(\"ka\"))\n",
    "print(tree.count_aparitions(\"apa\"))\n",
    "print(tree.count_aparitions(\"papar\"))\n",
    "print(tree.count_aparitions(\"papare\"))"
   ]
  },
  {
   "cell_type": "markdown",
   "metadata": {},
   "source": [
    "## DFS"
   ]
  },
  {
   "cell_type": "code",
   "execution_count": null,
   "metadata": {},
   "outputs": [],
   "source": [
    "def dfs(graph, start):\n",
    "    # Vamos a mantener un set con los nodos visitados.\n",
    "    visited = set()\n",
    "    \n",
    "    # El stack de siempre.\n",
    "    stack = [start]\n",
    "    \n",
    "    while stack:\n",
    "        vertex = stack.pop()\n",
    "        # Detalle clave: si ya visitamos el nodo, ¡no hacemos nada!\n",
    "        if vertex not in visited:\n",
    "            # Lo visitamos\n",
    "            visited.add(vertex)\n",
    "            # Agregamos los vecinos al stack si es que no han sido visitados.\n",
    "            for v in graph[vertex]:\n",
    "                if v not in visited:\n",
    "                    stack.append(v)   \n",
    "    return visited"
   ]
  },
  {
   "cell_type": "markdown",
   "metadata": {},
   "source": [
    "## BFS"
   ]
  },
  {
   "cell_type": "code",
   "execution_count": null,
   "metadata": {},
   "outputs": [],
   "source": [
    "\n",
    "from collections import deque\n",
    "\n",
    "def bfs(graph, start):\n",
    "    # Vamos a mantener un set con los nodos visitados.\n",
    "    visited = set()\n",
    "    # La cola de siempre.\n",
    "    queue = deque([start])\n",
    "    \n",
    "    while queue:\n",
    "        vertex = queue.popleft()\n",
    "        # Detalle clave: si ya visitamos el nodo, no hacemos nada!\n",
    "        if vertex not in visited:\n",
    "            # Lo visitamos\n",
    "            visited.add(vertex)\n",
    "            # Agregamos los vecinos a la cola si es que no han sido visitados.\n",
    "            for v in graph[vertex]:\n",
    "                if v not in visited:\n",
    "                    queue.append(v)\n",
    "    return visited"
   ]
  },
  {
   "cell_type": "markdown",
   "metadata": {},
   "source": [
    "## P3 Examen 2018-1\n",
    "\n",
    "Un laberinto de palabras es un grafo dirigido en el que, dado un punto de inicio fijo, todo recorrido puede ser descrito mediante strings. Para ello, se disponen de aristas etiquetadas con letras de un alfabeto que varía según el laberinto. Por cada nodo existe exactamente una arista saliente asociada a cada letra. Para ilustrar esta situación considere el siguiente laberinto con alfabeto $\\Sigma = \\{a, b\\}$ y cuyo punto de inicio está dado por $n_0$:\n",
    "\n",
    "\n",
    "Veamos por donde pasan algunos recorridos:\n",
    "\n",
    "\"abba\": $n_0$, $n_1$, $n_2$, $n_3$, $n_2$.\n",
    "\"baab\": $n_0$, $n_2$, $n_1$, $n_3$, $n_1$.\n",
    "\"\": $n_0$.\n",
    "Como esto es un laberinto, tenemos algunos nodos designados como \"nodos de salida\". Un recorrido llega a la salida si el último nodo por el que pasa es un \"nodo de salida\". Por ejemplo, si establecemos $n_2$ como única salida, tenemos que \"abba\" llega a la salida, pero los otros recorridos (\"baab\", \"\") no llegan.\n",
    "\n",
    "Para esta pregunta, considere la siguiente implementación de la clase Nodo, que representa nodos de este laberinto."
   ]
  },
  {
   "cell_type": "code",
   "execution_count": null,
   "metadata": {},
   "outputs": [],
   "source": [
    "class Nodo:\n",
    "    def __init__(self, salida=False):\n",
    "        self.adj = {}\n",
    "        self.salida = salida\n",
    "        \n",
    "    def agregar_vecino(self, nodo, letra):\n",
    "        self.adj[letra] = nodo"
   ]
  },
  {
   "cell_type": "markdown",
   "metadata": {},
   "source": [
    "Implemente el método recorrer(self, palabra: str) -> bool de la clase Nodo. El método debe recibir una palabra, y debe retornar True si el recorrido descrito por el string (partiendo por este nodo) termina en un nodo de salida. En otro caso, el método debe retornar False."
   ]
  },
  {
   "cell_type": "code",
   "execution_count": null,
   "metadata": {},
   "outputs": [],
   "source": [
    "\n",
    "class Nodo:\n",
    "    def __init__(self, salida=False):\n",
    "        self.adj = {}\n",
    "        self.salida = salida\n",
    "        \n",
    "    def agregar_vecino(self, nodo, letra):\n",
    "        self.adj[letra] = nodo\n",
    "        \n",
    "    def recorrer(self, palabra):\n",
    "        \"\"\"\n",
    "        Revisa si el camino dado por la palabra termina en un nodo meta.\n",
    "        Se considera este como el nodo origen. \n",
    "        \"\"\"\n",
    "        if not palabra:\n",
    "            return self.salida\n",
    "        nodo_siguiente = self.adj[palabra[0]]\n",
    "        return nodo_siguiente.recorrer(palabra[1:])"
   ]
  },
  {
   "cell_type": "code",
   "execution_count": null,
   "metadata": {},
   "outputs": [],
   "source": [
    "n0 = Nodo()\n",
    "n1 = Nodo()\n",
    "n2 = Nodo(salida=True)\n",
    "n3 = Nodo()\n",
    "\n",
    "n0.agregar_vecino(n1, 'a')\n",
    "n0.agregar_vecino(n2, 'b')\n",
    "n1.agregar_vecino(n3, 'a')\n",
    "n1.agregar_vecino(n2, 'b')\n",
    "n2.agregar_vecino(n1, 'a')\n",
    "n2.agregar_vecino(n3, 'b')\n",
    "n3.agregar_vecino(n2, 'a')\n",
    "n3.agregar_vecino(n1, 'b')\n",
    "\n",
    "print(n0.recorrer('abba'))\n",
    "print(n0.recorrer('baab'))\n",
    "print(n0.recorrer(''))\n",
    "print(n0.recorrer('aab'))"
   ]
  },
  {
   "cell_type": "markdown",
   "metadata": {},
   "source": [
    "\n",
    "Una variante de este tipo de laberintos es permitir que haya más de una arista saliente etiquetada con la misma letra\n",
    "En tal caso, un mismo string puede representar más de un recorrido. Por ejemplo, \"abba\" puede representar el camino $n_0$, $n_1$, $n_2$, $n_3$, $n_2$, o bien el camino  $n_0$, $n_0$, $n_2$, $n_3$, $n_2$."
   ]
  },
  {
   "cell_type": "markdown",
   "metadata": {},
   "source": [
    "Modifique la clase Nodo original para poder modelar este nuevo grafo."
   ]
  },
  {
   "cell_type": "code",
   "execution_count": null,
   "metadata": {},
   "outputs": [],
   "source": [
    "class Nodo:\n",
    "    def __init__(self, salida=False):\n",
    "        self.adj = {}\n",
    "        self.salida = salida\n",
    "        \n",
    "    def agregar_vecino(self, nodo, letra):\n",
    "        if letra not in self.adj:\n",
    "            self.adj[letra] = set()\n",
    "        self.adj[letra].add(nodo)"
   ]
  },
  {
   "cell_type": "markdown",
   "metadata": {},
   "source": [
    "Suponiendo que usted materializó las modificaciones del punto anterior, vuelva a implementar el método recorrer para que retorne True si alguno de los recorridos que representa la palabra llega a alguna salida."
   ]
  },
  {
   "cell_type": "code",
   "execution_count": null,
   "metadata": {},
   "outputs": [],
   "source": [
    "class Nodo:\n",
    "    def __init__(self, salida=False):\n",
    "        self.adj = {}\n",
    "        self.salida = salida\n",
    "        \n",
    "    def agregar_vecino(self, nodo, letra):\n",
    "        if letra not in self.adj:\n",
    "            self.adj[letra] = set()\n",
    "        self.adj[letra].add(nodo)\n",
    "        \n",
    "    def recorrer(self, palabra):\n",
    "        \"\"\"\n",
    "        Revisa si el camino dado por la palabra termina en un nodo meta.\n",
    "        Se considera este como el nodo origen. \n",
    "        \"\"\"\n",
    "        if not palabra:\n",
    "            return self.salida\n",
    "        nodos_siguientes = self.adj[palabra[0]]\n",
    "        return any(x.recorrer(palabra[1:]) for x in nodos_siguientes)"
   ]
  },
  {
   "cell_type": "code",
   "execution_count": null,
   "metadata": {},
   "outputs": [],
   "source": [
    "n0 = Nodo()\n",
    "n1 = Nodo()\n",
    "n2 = Nodo(salida=True)\n",
    "n3 = Nodo()\n",
    "\n",
    "n0.agregar_vecino(n0, 'a')\n",
    "n0.agregar_vecino(n1, 'a')\n",
    "n0.agregar_vecino(n2, 'b')\n",
    "n1.agregar_vecino(n3, 'a')\n",
    "n1.agregar_vecino(n2, 'b')\n",
    "n2.agregar_vecino(n1, 'a')\n",
    "n2.agregar_vecino(n3, 'b')\n",
    "n3.agregar_vecino(n2, 'a')\n",
    "n3.agregar_vecino(n1, 'b')\n",
    "\n",
    "print(n0.recorrer('abba'))\n",
    "print(n0.recorrer('baab'))\n",
    "print(n0.recorrer(''))\n",
    "print(n0.recorrer('aab'))"
   ]
  },
  {
   "cell_type": "markdown",
   "metadata": {},
   "source": [
    "# Ejercicio Funcional"
   ]
  },
  {
   "cell_type": "markdown",
   "metadata": {},
   "source": [
    "## Pregunta 3 Examen 2017 - 2"
   ]
  },
  {
   "cell_type": "markdown",
   "metadata": {},
   "source": [
    " - ¿Que imprime este código? Explique paso a paso"
   ]
  },
  {
   "cell_type": "code",
   "execution_count": null,
   "metadata": {},
   "outputs": [],
   "source": [
    "from collections import namedtuple\n",
    "import os\n",
    "import pickle\n",
    "\n",
    "Street = namedtuple(\"Street\", \"district name id\")\n",
    "names = [\"Rue Montmartre\", \"Rue des Moulins\", \n",
    "         \"Pont Neuf\", \"Rue de l'Oculus\",\n",
    "         \"Avenue de l'Opera\", \"Boulevard du Palais\",\n",
    "         \"Place du Palais-Royal\"]  \n",
    "districts = ['1er-arrondissement', '1er-arrondissement', \n",
    "             '1er-arrondissement', '1er-arrondissement']\n",
    "\n",
    "def convert(file_name, obj):\n",
    "    if os.path.exists(file_name):\n",
    "        return False\n",
    "    else:\n",
    "        with open(file_name, \"wb+\") as f:\n",
    "            pickle.dump(obj, f)\n",
    "        return True\n",
    "\n",
    "successful = list(filter(lambda a: convert(\"{}.iic2233\".format(a[1]),\n",
    "                                    Street(*a[0], a[1])),\n",
    "                        ((n, len(n[0])) for n in zip(names, districts))))\n",
    "\n",
    "print(successful)"
   ]
  },
  {
   "cell_type": "markdown",
   "metadata": {},
   "source": [
    "# Ejercicio Decoradores"
   ]
  },
  {
   "cell_type": "markdown",
   "metadata": {},
   "source": [
    "## Pregunta 3 Examen 2017 - 2"
   ]
  },
  {
   "cell_type": "markdown",
   "metadata": {},
   "source": [
    " - ¿Que imprime este código? Explique paso a paso"
   ]
  },
  {
   "cell_type": "code",
   "execution_count": null,
   "metadata": {},
   "outputs": [],
   "source": [
    "def dec(x, y):\n",
    "    def _dec(f):\n",
    "        def __dec(*args, **kwargs):\n",
    "            index = None\n",
    "            cond = x < f(*args, **kwargs) < y\n",
    "            if len(kwargs) == 0 and cond:\n",
    "                index = -1\n",
    "            elif cond:\n",
    "                index = 1\n",
    "            else:\n",
    "                index = 0\n",
    "            return f(*args, **kwargs) * index\n",
    "        return __dec\n",
    "    return _dec\n",
    "\n",
    "@dec(-6, 9)\n",
    "def foo(a, b, c):\n",
    "    return a * b + c\n",
    "\n",
    "@dec(-2, 7)\n",
    "def bar(a, b, c=1):\n",
    "    return a * b * c\n",
    "\n",
    "@dec(-1, 2)\n",
    "def qux(a, b, c=1):\n",
    "    return a - b * c\n",
    "\n",
    "print(foo(2, 3, 1))\n",
    "print(bar(2, 3, c=1))\n",
    "print(qux(2, 3, c=1))"
   ]
  },
  {
   "cell_type": "markdown",
   "metadata": {},
   "source": [
    "# Ejercicio Decoradores y RE"
   ]
  },
  {
   "cell_type": "markdown",
   "metadata": {},
   "source": [
    "### Pregunta 3 Examen 2017 - 1"
   ]
  },
  {
   "cell_type": "markdown",
   "metadata": {},
   "source": [
    " - ¿Que imprime este código? Explique paso a paso\n",
    " - Muestre como utilizar los decoradores sin azúcar sintáctico"
   ]
  },
  {
   "cell_type": "code",
   "execution_count": null,
   "metadata": {
    "scrolled": true
   },
   "outputs": [],
   "source": [
    "import re as re\n",
    "\n",
    "\n",
    "def aplicar_a(fn):\n",
    "    def _aplicar_a(msg):\n",
    "        l = re.split('(<[^>]+>)', fn(msg))\n",
    "        l1 = re.split('<[^>]+>', fn(msg))\n",
    "        print(l, l1, sep=\"\\n\")\n",
    "        l = [\n",
    "             '<b>{}</b>'.format(e) \\\n",
    "                    if re.match('[0-9]', e) else e for e in l\n",
    "            ]\n",
    "        return ''.join(l)\n",
    "    return _aplicar_a\n",
    "\n",
    "\n",
    "def aplicar_b(arg):\n",
    "    def _aplicar_b(fn):\n",
    "        def __aplicar_b(msg):\n",
    "            b = [\"<{0}>{1}</{0}>\".format(arg, fn(a)) for a in msg.split()]\n",
    "            return \"\".join(b)\n",
    "        return __aplicar_b\n",
    "    return _aplicar_b\n",
    "\n",
    "\n",
    "@aplicar_a\n",
    "@aplicar_b(\"u\")\n",
    "def mensaje(msg):\n",
    "    return msg\n",
    "\n",
    "print(mensaje(\"Este mensaje incluye 4 espacios\"))"
   ]
  }
 ],
 "metadata": {
  "kernelspec": {
   "display_name": "Python 3",
   "language": "python",
   "name": "python3"
  },
  "language_info": {
   "codemirror_mode": {
    "name": "ipython",
    "version": 3
   },
   "file_extension": ".py",
   "mimetype": "text/x-python",
   "name": "python",
   "nbconvert_exporter": "python",
   "pygments_lexer": "ipython3",
   "version": "3.6.5"
  }
 },
 "nbformat": 4,
 "nbformat_minor": 2
}
