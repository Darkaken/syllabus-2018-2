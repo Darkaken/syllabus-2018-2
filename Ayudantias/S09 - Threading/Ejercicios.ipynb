{
 "cells": [
  {
   "cell_type": "markdown",
   "metadata": {},
   "source": [
    "# Ejercicios\n",
    "\n",
    "Recuerden realizar estos ejercicios en otro editor! Que jupyter notebook no se comporta bien con los _Threads_.\n"
   ]
  },
  {
   "cell_type": "markdown",
   "metadata": {},
   "source": [
    "### Ejercicio 1\n",
    "Escribe el output del siguiente código (y si finaliza su ejecución)"
   ]
  },
  {
   "cell_type": "code",
   "execution_count": null,
   "metadata": {},
   "outputs": [],
   "source": [
    "import threading\n",
    "import time\n",
    "\n",
    "def thread_f(lock1, lock2, name):\n",
    "    with lock1:\n",
    "        print('Primera parte {}'.format(name))\n",
    "        time.sleep(10)\n",
    "        with lock2:\n",
    "            print('Segunda parte {}'.format(name))\n",
    "            time.sleep(5)\n",
    "\n",
    "\n",
    "a_lock = threading.Lock()\n",
    "b_lock = threading.Lock()\n",
    "\n",
    "t1 = threading.Thread(target=thread_f, args=(a_lock, b_lock, \"t1\"))\n",
    "t2 = threading.Thread(target=thread_f, args=(b_lock, a_lock, \"t2\"))\n",
    "\n",
    "t1.start()\n",
    "t2.start()"
   ]
  },
  {
   "cell_type": "markdown",
   "metadata": {},
   "source": [
    "### Ejercicio 2\n",
    "Escribe el output del siguiente código (y si finaliza su ejecución)"
   ]
  },
  {
   "cell_type": "code",
   "execution_count": null,
   "metadata": {},
   "outputs": [],
   "source": [
    "import threading\n",
    "import time\n",
    "\n",
    "def thread_f(lock1, lock2, name):\n",
    "    with lock1:\n",
    "        print('Primera parte {}'.format(name))\n",
    "        time.sleep(10)\n",
    "        with lock2:\n",
    "            print('Segunda parte {}'.format(name))\n",
    "            time.sleep(5)\n",
    "\n",
    "\n",
    "a_lock = threading.Lock()\n",
    "b_lock = threading.Lock()\n",
    "\n",
    "t1 = threading.Thread(target=thread_f, args=(a_lock, b_lock, \"t1\"))\n",
    "t2 = threading.Thread(target=thread_f, args=(b_lock, a_lock, \"t2\"))\n",
    "\n",
    "t1.daemon = True  # Estas líneas son la diferencia con el ejercicio 1\n",
    "t2.daemon = True\n",
    "\n",
    "t1.start()\n",
    "t2.start()"
   ]
  },
  {
   "cell_type": "markdown",
   "metadata": {},
   "source": [
    "### Ejercicio 3\n",
    "Escribe el output del siguiente código (y si finaliza su ejecución)\n",
    "Tip: Ejecuta varias veces y ve si actúa distinto; ¿por qué pasa eso?"
   ]
  },
  {
   "cell_type": "code",
   "execution_count": null,
   "metadata": {},
   "outputs": [],
   "source": [
    "def thread_f(lock1, lock2, name):\n",
    "    for i in range(5):\n",
    "        with lock1:\n",
    "            with lock2:\n",
    "                print(name)\n",
    "\n",
    "\n",
    "x_lock = threading.Lock()\n",
    "y_lock = threading.Lock()\n",
    "\n",
    "t1 = threading.Thread(target=thread_f, args=(x_lock, y_lock, \"thread - 1\"))\n",
    "t1.daemon = True\n",
    "t1.start()\n",
    "\n",
    "t2 = threading.Thread(target=thread_f, args=(y_lock, x_lock, \"thread - 2\"))\n",
    "t2.daemon = True\n",
    "t2.start()"
   ]
  },
  {
   "cell_type": "code",
   "execution_count": null,
   "metadata": {},
   "outputs": [],
   "source": []
  },
  {
   "cell_type": "code",
   "execution_count": null,
   "metadata": {},
   "outputs": [],
   "source": []
  }
 ],
 "metadata": {
  "kernelspec": {
   "display_name": "Python 3",
   "language": "python",
   "name": "python3"
  },
  "language_info": {
   "codemirror_mode": {
    "name": "ipython",
    "version": 3
   },
   "file_extension": ".py",
   "mimetype": "text/x-python",
   "name": "python",
   "nbconvert_exporter": "python",
   "pygments_lexer": "ipython3",
   "version": "3.6.5"
  }
 },
 "nbformat": 4,
 "nbformat_minor": 2
}
