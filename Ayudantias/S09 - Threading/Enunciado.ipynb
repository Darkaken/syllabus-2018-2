{
 "cells": [
  {
   "cell_type": "markdown",
   "metadata": {
    "slideshow": {
     "slide_type": "slide"
    }
   },
   "source": [
    "\n",
    "# Ayudantía 09: Threading\n",
    "#### Autores: Nicolás Quiroz (`@naquiroz`) y Daniel Pinto (`@drpinto1`)"
   ]
  },
  {
   "cell_type": "markdown",
   "metadata": {},
   "source": [
    "### Introducción:\n",
    "\n",
    "Responda la siguientes preguntas:\n",
    "\n",
    "* ¿Qué es un `Thread`?\n",
    "* ¿Para qué sirve usar `Thread`s?\n",
    "* ¿Cómo se crea un `Thread`?\n",
    "* ¿Qué significa que un `Thread` sea `daemon`?\n",
    "* ¿Qué realiza el método `join`?\n",
    "* ¿Qué problema de sincronización puede ocurrir con los `Thread`?"
   ]
  },
  {
   "cell_type": "markdown",
   "metadata": {
    "slideshow": {
     "slide_type": "slide"
    }
   },
   "source": [
    "## AC21- 2030-3 : PDR\n",
    "\n",
    "Los robots han invadido al DCC!. Debido a causas totalmente creíbles y con mucho sentido, te ves obligado a simular una pelea de robots con el objetivo de defender el departamento!.\n",
    "Sin embargo, porque ~~no nos sirve tanto para explicar la materia~~ el dcc no quiere fomentar la clandestinidad, la pelea no será simplemente una lucha entre robots iguales, si no una alianza entre varios equipos de robots pequeños, para vencer un robot gigante que está intentando destruir el mundo (nuevamente, causa totalmente creíble y con sentido). \n",
    "\n",
    "Deberás modelar esta batalla entre 5 robots (cada uno con un estratega y piloto correspondiente) en un mapa de 100 x 100 coordenadas (las coordenadas van de 0 a 100 en cada eje). Por lo tanto, los robots deben poseer coordenadas de su posición actual.\n",
    "\n",
    "Condiciones iniciales.\n",
    "\n",
    "- Los robots comienzan en posiciones aleatorias\n",
    "- El mega robot comienza en posiciones aleatorias."
   ]
  },
  {
   "cell_type": "markdown",
   "metadata": {},
   "source": [
    "#### El Mega Robot\n",
    "\n",
    "El mega robot es el robot gigante con el cual deberán pelear. Este comienza con 5000 de vida, y solo ataca cuando es atacado, atacando siempre 100 de vida. Por otro lado, cada vez que este robot pierde 500 o más de vida, debe moverse a una nueva ubicación aleatoria en el mapa.\n",
    "\n",
    "El mega robot posee además una función `vulnerate(self, hash_num: int)` cuya existencia se justifica ~~para demostrar los contenidos mas adelante~~ con un accidente del diseñador del robot. En esta se ingresa una clave de hash (un número simplemente, que si es igual a la clave secreta del `MegaRobot`, este pierte 1000 de vida instantáneamente)"
   ]
  },
  {
   "cell_type": "code",
   "execution_count": 1,
   "metadata": {
    "slideshow": {
     "slide_type": "subslide"
    }
   },
   "outputs": [],
   "source": [
    "import threading as thr\n",
    "\n",
    "class MegaRobot:\n",
    "\n",
    "    pass"
   ]
  },
  {
   "cell_type": "markdown",
   "metadata": {
    "slideshow": {
     "slide_type": "subslide"
    }
   },
   "source": [
    "#### Los Robots\n",
    "Cada robot pequeño será manejado por un equipo de dos personas, un piloto y un estratega. Tienen 2000 de vida inicial y cada vez que atacan, infligen una cantidad aleatoria de daño, con valores entre 0 y 250.\n",
    "\n",
    "Como se esperaría, el piloto es el encargado de hacer que el robot se desplace y ataque, mientras que el estratega se encargará de buscar el punto débil del robot enemigo, para así ganar la pelea."
   ]
  },
  {
   "cell_type": "code",
   "execution_count": 3,
   "metadata": {
    "slideshow": {
     "slide_type": "subslide"
    }
   },
   "outputs": [],
   "source": [
    "from itertools import count\n",
    "\n",
    "class Robot:\n",
    "    pass"
   ]
  },
  {
   "cell_type": "markdown",
   "metadata": {
    "slideshow": {
     "slide_type": "slide"
    }
   },
   "source": [
    "#### El Piloto\n",
    "El piloto será el encargado de cambiar la posición del robot cada cierto tiempo, entre 1 y 5 segundos, además de enviar la orden al robot, de intentar atacar, cada 2 movimientos de este. También, debido a la baja tecnología de nuestro planeta, los robots pueden moverse un bloque a la vez, en dirección aleatoria. Cada vez que el piloto decide enviar a su robot a atacar, deberá emitir una notificación al estratega, que es momento de intentar vulnerar al MegaRobot.\n",
    "\n",
    "Para poder atacar, el Robot asociado al Piloto debe estar a menos de una distancia euclidiana de 70."
   ]
  },
  {
   "cell_type": "code",
   "execution_count": 6,
   "metadata": {},
   "outputs": [],
   "source": [
    "from itertools import cycle\n",
    "\n",
    "class Piloto(thr.Thread):\n",
    "    pass"
   ]
  },
  {
   "cell_type": "markdown",
   "metadata": {
    "slideshow": {
     "slide_type": "slide"
    }
   },
   "source": [
    "#### El Estratega\n",
    "El estratega deberá observar cómo se desarrolla la pelea buscando puntos débiles del mega robot. Cuando el robot asociado a un estratega, ataca, este intentará vulnerar al MegaRobot. Para esto debe usar la función provista por el MegaRobot `vulnerate` con un número aleatorio para intentar vulnerar las defensas del MegaRobot.\n",
    "\n",
    "Nuevamente, **solo es posible vulnerar al MegaRobot cuando el robot asociado al estratega, ataca.** La única forma que el estratega se de cuenta de esto, es a través del Piloto, quien le avisará cuando puede vulnerar.\n",
    "\n",
    "Para poder vulnerar, el Robot asociado al Estratega debe estar a menos de una distancia euclidiana de 75."
   ]
  },
  {
   "cell_type": "code",
   "execution_count": null,
   "metadata": {
    "slideshow": {
     "slide_type": "subslide"
    }
   },
   "outputs": [],
   "source": [
    "class Estratega(thr.Thread):\n",
    "    pass"
   ]
  },
  {
   "cell_type": "markdown",
   "metadata": {
    "slideshow": {
     "slide_type": "slide"
    }
   },
   "source": [
    "Finalmente, cuando el Mega Robot, haya perdido 100% de su vida, debes terminar la batalla y retornar todos los robots vencedores.\n",
    "\n",
    "**Importante:** Se debe recordar que como el MegaRobot se puede desplazar, al momento de atacarlo o intentar vulnerarlo, **se debe resolver el problema de concurrecia**. Además, como varios Robots intentan dañar al MegaRobot de forma simultánea, también se debe resolver el problema de concurrecia."
   ]
  },
  {
   "cell_type": "code",
   "execution_count": null,
   "metadata": {
    "slideshow": {
     "slide_type": "subslide"
    }
   },
   "outputs": [],
   "source": [
    "def sim_battle():\n",
    "    # Instanciar MegaRobot, 5 Robots cada uno con un Piloto y un Estratega.\n",
    "    \n",
    "    # Hacer start() a los threads.\n",
    "    \n",
    "    # Esperar de manera a los threads, de manera que se termine la simulación.\n",
    "    \n",
    "    # Imprimir un mensaje y retornar a los robots vivos (vida > 0).\n",
    "    \n",
    "    return"
   ]
  },
  {
   "cell_type": "code",
   "execution_count": null,
   "metadata": {},
   "outputs": [],
   "source": [
    "sim_battle()    # Probar aquí."
   ]
  }
 ],
 "metadata": {
  "kernelspec": {
   "display_name": "Python 3",
   "language": "python",
   "name": "python3"
  },
  "language_info": {
   "codemirror_mode": {
    "name": "ipython",
    "version": 3
   },
   "file_extension": ".py",
   "mimetype": "text/x-python",
   "name": "python",
   "nbconvert_exporter": "python",
   "pygments_lexer": "ipython3",
   "version": "3.6.5"
  }
 },
 "nbformat": 4,
 "nbformat_minor": 2
}
