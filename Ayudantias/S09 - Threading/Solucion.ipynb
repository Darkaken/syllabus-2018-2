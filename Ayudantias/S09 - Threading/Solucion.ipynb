{
 "cells": [
  {
   "cell_type": "markdown",
   "metadata": {
    "slideshow": {
     "slide_type": "slide"
    }
   },
   "source": [
    "\n",
    "# Ayudantía 09: Threading\n",
    "#### Autores: Nicolás Quiroz (`@naquiroz`) y Daniel Pinto (`@drpinto1`)\n",
    "\n",
    "[Link](https://docs.google.com/forms/d/e/1FAIpQLSdNDAXi5-LDcDytG18WN57PbHT7MrnNZZJ9ZflfCoQ0Uv_aAw/viewform) al feedback de la ayudantía :D"
   ]
  },
  {
   "cell_type": "markdown",
   "metadata": {
    "slideshow": {
     "slide_type": "slide"
    }
   },
   "source": [
    "**¿Qué es un thread?**\n",
    "\n",
    "Una secuencia muy puequeña, de tareas encadenadas, que puede ser ejecutada por un sistema operativo, eso significa, básicamente, que un thread es solamente, una sección de código.\n",
    "\n",
    "¿En qué se diferencia eso de lo que hemos estado haciendo hasta ahora?\n",
    "\n",
    "Hasta ahora, sin saberlo, han usado threads.. o para ser precisos han usado _**un thread**_ y lo que aprenderán esta semana, es a manejar múltiples threads.\n",
    "\n",
    "\n",
    "Esto es una herramienta muy poderosa, que les permitirá crear diferentes tipos de programas, por ejemplo, juegos!\n",
    "\n",
    "Imaginemos que queremos modelar a un enemigo en un juego, que cambia su posición cada 1 segundo.\n",
    "Esto lo podemos hacer más o menos así:"
   ]
  },
  {
   "cell_type": "code",
   "execution_count": null,
   "metadata": {
    "slideshow": {
     "slide_type": "subslide"
    }
   },
   "outputs": [],
   "source": [
    "import time\n",
    "import random\n",
    "\n",
    "class Enemigo:\n",
    "    def __init__(self, nombre, x, y):\n",
    "        self.x = x\n",
    "        self.y = y\n",
    "        self.nombre = nombre\n",
    "        \n",
    "    def mover(self):\n",
    "        self.x += random.randint(0, 5)\n",
    "        self.y += random.randint(0, 5)\n",
    "        print(f'{self.nombre}: Me moví a {self.x}, {self.y}')\n",
    "        \n",
    "\n",
    "el_malo = Enemigo('el_malo', 0, 0)\n",
    "\n",
    "for _ in range(5):\n",
    "    el_malo.mover()\n",
    "    print()\n",
    "    time.sleep(1)"
   ]
  },
  {
   "cell_type": "markdown",
   "metadata": {
    "slideshow": {
     "slide_type": "slide"
    }
   },
   "source": [
    "¿Qué hacemos si queremos varios enemigos?\n",
    "\n",
    "Podemos hacer, básicamente, lo mismo"
   ]
  },
  {
   "cell_type": "code",
   "execution_count": null,
   "metadata": {
    "slideshow": {
     "slide_type": "subslide"
    }
   },
   "outputs": [],
   "source": [
    "el_malo = Enemigo('el_malo', 0, 0)\n",
    "el_muy_malo = Enemigo('el_muy_malo', 0, 0)\n",
    "el_mas_malo = Enemigo('el_mas_malo', 0, 0)\n",
    "\n",
    "for _ in range(3):\n",
    "    el_malo.mover()\n",
    "    el_muy_malo.mover()\n",
    "    el_mas_malo.mover()\n",
    "    print()\n",
    "    time.sleep(1)"
   ]
  },
  {
   "cell_type": "markdown",
   "metadata": {
    "slideshow": {
     "slide_type": "slide"
    }
   },
   "source": [
    "¿Qué pasa si queremos agregar un jugador?\n",
    "\n",
    "Queremos que el jugador también se pueda mover cada un segundo, así que seguimos la misma lógica"
   ]
  },
  {
   "cell_type": "code",
   "execution_count": null,
   "metadata": {
    "slideshow": {
     "slide_type": "fragment"
    }
   },
   "outputs": [],
   "source": [
    "class Jugador:\n",
    "    def __init__(self, x, y):\n",
    "        self.x = x\n",
    "        self.y = y\n",
    "        \n",
    "    def mover(self):\n",
    "        mov = int(input('Seleccione un número de casillas para mover. '))\n",
    "        self.x += mov\n",
    "        self.y += mov\n",
    "        print(f'jugador: Me moví a {self.x}, {self.y}')\n",
    "\n",
    "jugador = Jugador(0, 0)\n",
    "el_malo = Enemigo('el_malo', 0, 0)\n",
    "el_muy_malo = Enemigo('el_muy_malo', 0, 0)\n",
    "el_mas_malo = Enemigo('el_mas_malo', 0, 0)\n",
    "\n",
    "for _ in range(3):\n",
    "    jugador.mover()\n",
    "    el_malo.mover()\n",
    "    el_muy_malo.mover()\n",
    "    el_mas_malo.mover()\n",
    "    print()\n",
    "    time.sleep(1)"
   ]
  },
  {
   "cell_type": "markdown",
   "metadata": {
    "slideshow": {
     "slide_type": "notes"
    }
   },
   "source": [
    "¿Cuál es el problema con esto?\n",
    "Los enemigos solo se mueven luego de haber movido al jugador, no cada un segundo\n",
    "\n",
    "¿Cómo podemos arreglar esto?\n",
    "Por supuesto que con la ayuda de threads."
   ]
  },
  {
   "cell_type": "markdown",
   "metadata": {
    "slideshow": {
     "slide_type": "slide"
    }
   },
   "source": [
    "Comenzamos con la sintáxis básica para threads"
   ]
  },
  {
   "cell_type": "code",
   "execution_count": null,
   "metadata": {
    "slideshow": {
     "slide_type": "subslide"
    }
   },
   "outputs": [],
   "source": [
    "import threading as thr\n",
    "\n",
    "def thredeador():\n",
    "    wait= random.randint(1, 4)\n",
    "    mi_thread = thr.current_thread()\n",
    "    print(f'Hola, soy el thread {mi_thread.name}, esperare {wait}s')\n",
    "    time.sleep(wait)\n",
    "    print(f'Thread {mi_thread.name} terminando x__x')\n",
    "\n",
    "uno = thr.Thread(name='thread uno', target=thredeador)\n",
    "dos = thr.Thread(name='thread dos', target=thredeador)\n",
    "\n",
    "uno.start()\n",
    "dos.start()"
   ]
  },
  {
   "cell_type": "markdown",
   "metadata": {
    "slideshow": {
     "slide_type": "slide"
    }
   },
   "source": [
    "Ahora, volvemos a nuestro juego"
   ]
  },
  {
   "cell_type": "markdown",
   "metadata": {},
   "source": [
    "#### IMPORTANTE:\n",
    "Los siguientes bloques de código pueden caerse luego de ingresar el primer input, sin embargo si copias el mismo código a un archivo .py y lo ejecutas normalmente va a funcionar como se espera; esto se debe a la manera en que jupyter maneja los threads."
   ]
  },
  {
   "cell_type": "code",
   "execution_count": null,
   "metadata": {
    "slideshow": {
     "slide_type": "fragment"
    }
   },
   "outputs": [],
   "source": [
    "def movedor(movible):  # duck typing ;)\n",
    "    for _ in range(3):\n",
    "        movible.mover()\n",
    "        time.sleep(1)\n",
    "\n",
    "el_malo = Enemigo('el_malo', 0, 0)\n",
    "el_muy_malo = Enemigo('el_muy_malo', 0, 0)\n",
    "el_malisimo = Enemigo('el_malisimo', 0, 0)\n",
    "jugador = Jugador(0, 0)\n",
    "\n",
    "mueve0 = thr.Thread(target=movedor(jugador))  # Podemos omitir el nombre del thread\n",
    "mueve1 = thr.Thread(target=movedor(el_malo))\n",
    "mueve2 = thr.Thread(target=movedor(el_muy_malo))\n",
    "mueve3 = thr.Thread(target=movedor(el_malisimo))"
   ]
  },
  {
   "cell_type": "markdown",
   "metadata": {
    "slideshow": {
     "slide_type": "subslide"
    }
   },
   "source": [
    "*¿Qué está pasando?* **😩**\n",
    "\n",
    "Solamente tenemos un ~~no tan~~ pequeño error de sintaxis al momento de declarar el target. La sintaxis correcta es la siguiente:"
   ]
  },
  {
   "cell_type": "code",
   "execution_count": null,
   "metadata": {
    "slideshow": {
     "slide_type": "subslide"
    }
   },
   "outputs": [],
   "source": [
    "mueve0 = thr.Thread(target=movedor, args=(jugador,))\n",
    "mueve1 = thr.Thread(target=movedor, args=(el_malo,))\n",
    "mueve2 = thr.Thread(target=movedor, args=(el_muy_malo,))\n",
    "mueve3 = thr.Thread(target=movedor, args=(el_mas_malo,))\n",
    "\n",
    "mueve_todo = [mueve0, mueve1, mueve2, mueve3]\n",
    "for mueve in mueve_todo:\n",
    "    mueve.start()"
   ]
  },
  {
   "cell_type": "markdown",
   "metadata": {},
   "source": [
    "Notamos que para llamar a una función con argumentos desde el Thread, necesitamos darle la función target, __sin argumentos ni paréntesis__ y una __tupla__ con los argumentos, por lo que si es solo uno, debemos crear una tupla de largo 1 con el argumento y una coma"
   ]
  },
  {
   "cell_type": "markdown",
   "metadata": {
    "slideshow": {
     "slide_type": "slide"
    }
   },
   "source": [
    "Podemos hacer lo mismo, aplicando materia anterior, en conjunto con threading. Con la ayuda de nuestra gran amiga **Herencia**\n",
    "\n",
    "Si se dieron cuenta en los códigos anteriores, utilizamos thr.Thread, en lugar de thr.thread\n",
    "\n",
    "Esto es una sutileza, sin embargo, si miramos el código de estilos _PEP8_ ~~yay!~~, encontraremos que lo anterior representa una clase, o sea, _podemos heredar_ de Thread 😮"
   ]
  },
  {
   "cell_type": "code",
   "execution_count": null,
   "metadata": {
    "slideshow": {
     "slide_type": "slide"
    }
   },
   "outputs": [],
   "source": [
    "class Enemigo(thr.Thread):\n",
    "    def __init__(self, nombre, x, y, *args, **kwargs):\n",
    "        super().__init__(*args, **kwargs)\n",
    "        self.x = x\n",
    "        self.y = y\n",
    "        self.nombre = nombre\n",
    "        \n",
    "    def mover(self):  # mismo mover :o\n",
    "        self.x += random.randint(0, 5)\n",
    "        self.y += random.randint(0, 5)\n",
    "        print(f'{self.nombre}: Me moví a {self.x}, {self.y}')\n",
    "        \n",
    "    def run(self):\n",
    "        for i in range(3):\n",
    "            self.mover()\n",
    "            time.sleep(random.randint(0, 3))\n",
    "\n",
    "class Jugador(thr.Thread):\n",
    "    def __init__(self, x, y, *args, **kwargs):\n",
    "        super().__init__(*args, **kwargs)\n",
    "        self.x = x\n",
    "        self.y = y\n",
    "\n",
    "    def mover(self):  # Mismo mover que antes\n",
    "        mov = int(input('Seleccione un número de casillas para mover.'))\n",
    "        self.x += mov\n",
    "        self.y += mov\n",
    "        print(f'jugador: Me moví a {self.x}, {self.y}')\n",
    "        \n",
    "    def run(self):\n",
    "        for i in range(3):\n",
    "            self.mover()\n",
    "            time.sleep(random.randint(0, 3))\n",
    "\n",
    "el_malo = Enemigo('el_malo', 0, 0)\n",
    "el_muy_malo = Enemigo('el_muy_malo', 0, 0)\n",
    "el_malisimo = Enemigo('el_malisimo', 0, 0)\n",
    "jugador = Jugador(5, 2)\n",
    "\n",
    "el_malo.start()\n",
    "el_muy_malo.start()\n",
    "el_malisimo.start()\n",
    "jugador.start()"
   ]
  },
  {
   "cell_type": "markdown",
   "metadata": {},
   "source": [
    "Agreguemos ahora una pequeña funcionalidad, el __*Game Over*__\n",
    "\n",
    "¿Qué pasa si queremos que el programa termine luego de que el jugador se mueva solamente una vez?\n",
    "\n",
    "Podemos redefinir el run de nuestro jugador, para que funcione una única vez en lugar de 3."
   ]
  },
  {
   "cell_type": "code",
   "execution_count": null,
   "metadata": {},
   "outputs": [],
   "source": [
    "class Jugador(thr.Thread):\n",
    "    def __init__(self, x, y, *args, **kwargs):  # mismo init\n",
    "        super().__init__(*args, **kwargs)\n",
    "        self.x = x\n",
    "        self.y = y\n",
    "\n",
    "    def mover(self):  # Mismo mover\n",
    "        mov = int(input('Seleccione un número de casillas para mover.'))\n",
    "        self.x += mov\n",
    "        self.y += mov\n",
    "        print(f'jugador: Me moví a {self.x}, {self.y}')\n",
    "        \n",
    "    def run(self):  # quitamos el for del run\n",
    "        self.mover()\n",
    "        \n",
    "el_malo = Enemigo('el_malo', 0, 0)\n",
    "el_muy_malo = Enemigo('el_muy_malo', 0, 0)\n",
    "el_malisimo = Enemigo('el_malisimo', 0, 0)\n",
    "jugador = Jugador(5, 2)\n",
    "\n",
    "el_malo.start()\n",
    "el_muy_malo.start()\n",
    "el_malisimo.start()\n",
    "jugador.start()"
   ]
  },
  {
   "cell_type": "markdown",
   "metadata": {},
   "source": [
    "Notamos que el thread termina, pero el programa principal continua su ejecución.\n",
    "\n",
    "Esto se puede arreglar utilizando *daemon_threads*, que son exáctamente lo que queremos, threads que no impiden que el programa principal termine su ejecución si es que estos no han terminado; los podemos implementar de dos maneras:\n",
    "\n",
    "#### IMPORTANTE:\n",
    "Los siguientes dos bloques de código no van a funcionar, sin embargo si copias el mismo código a un archivo .py y lo ejecutas normalmente va a funcionar como se espera; esto se debe a la manera en que jupyter maneja los threads. Ocurre lo mismo con el ejercicio final."
   ]
  },
  {
   "cell_type": "markdown",
   "metadata": {},
   "source": [
    "### Manera 1:\n",
    "Sin alterar la definición de las clases"
   ]
  },
  {
   "cell_type": "code",
   "execution_count": null,
   "metadata": {},
   "outputs": [],
   "source": [
    "# Misma instanciación\n",
    "el_malo = Enemigo('el_malo', 0, 0)\n",
    "el_muy_malo = Enemigo('el_muy_malo', 0, 0)\n",
    "el_malisimo = Enemigo('el_malisimo', 0, 0)\n",
    "jugador = Jugador(5, 2)\n",
    "\n",
    "# Agregamos las lineas convirtiendo los threads\n",
    "el_malo.daemon = True\n",
    "el_muy_malo.daemon = True\n",
    "el_malisimo.daemon = True\n",
    "\n",
    "# Iniciamos\n",
    "el_malo.start()\n",
    "el_muy_malo.start()\n",
    "el_malisimo.start()\n",
    "jugador.start()"
   ]
  },
  {
   "cell_type": "markdown",
   "metadata": {},
   "source": [
    "### Manera 2:\n",
    "Declarándolo en la definición de la clase."
   ]
  },
  {
   "cell_type": "code",
   "execution_count": null,
   "metadata": {},
   "outputs": [],
   "source": [
    "# Esta definción es exactamente la misma\n",
    "class Enemigo(thr.Thread):\n",
    "    def __init__(self, nombre, x, y, *args, **kwargs):\n",
    "        super().__init__(*args, **kwargs)\n",
    "        self.x = x\n",
    "        self.y = y\n",
    "        self.nombre = nombre\n",
    "        self.daemon = True  # Excepto por esta linea, donde decalramos al thread como Daemon\n",
    "        \n",
    "    def mover(self):\n",
    "        self.x += random.randint(0, 5)\n",
    "        self.y += random.randint(0, 5)\n",
    "        print(f'{self.nombre}: Me moví a {self.x}, {self.y}')\n",
    "        \n",
    "    def run(self):\n",
    "        for i in range(3):\n",
    "            self.mover()\n",
    "            time.sleep(random.randint(0, 3))\n",
    "            \n",
    "# Instanciamos\n",
    "el_malo = Enemigo('el_malo', 0, 0)\n",
    "el_muy_malo = Enemigo('el_muy_malo', 0, 0)\n",
    "el_malisimo = Enemigo('el_malisimo', 0, 0)\n",
    "jugador = Jugador(5, 2)\n",
    "\n",
    "# Iniciamos\n",
    "el_malo.start()\n",
    "el_muy_malo.start()\n",
    "el_malisimo.start()\n",
    "jugador.start()"
   ]
  },
  {
   "cell_type": "markdown",
   "metadata": {},
   "source": [
    "Otra herramienta poderosa, que hace algo \"opuesto\" a _daemon_ es __join()__; el propósito de esta función es detener la ejecución del programa principal hasta que termine de ejecutarse el thread que llamo a join; este comportamiento se puede observar a continuación."
   ]
  },
  {
   "cell_type": "code",
   "execution_count": null,
   "metadata": {},
   "outputs": [],
   "source": [
    "def esperemos_un_rato():\n",
    "    \"\"\" La funcion espera 5 segundos, haciendo un print por segundo \"\"\"\n",
    "    timer = 0\n",
    "    for i in range(5):\n",
    "        print(f'Esperando {timer}')\n",
    "        timer += 1\n",
    "        time.sleep(1)\n",
    "\n",
    "esperador = thr.Thread(target = esperemos_un_rato)  # creamos el thread\n",
    "esperador.start()  # Iniciamos el thread\n",
    "\n",
    "for i in range(5):\n",
    "    if i == 2:  # detenemos la ejecución del for\n",
    "        esperador.join()  # hasta que termine el thread \"esperador\"\n",
    "    print(f'Thread Principal: {i}')"
   ]
  },
  {
   "cell_type": "markdown",
   "metadata": {},
   "source": [
    "La última herramienta de threads que queremos mencionar, y la que te permite sincronizar la ejecución de varios threads, es threading.Lock y su aplicación más útil es __manejar variables/recursos compartidos por varios threads__.\n",
    "En la práctica, lo que hace locks es prohibir el acceso a cierto recurso a todos los threads, _excepto a uno_ a la vez, de esta manera, si uno de tus threads está haciendo uso de una variable/archivo/etc los demás no podrán realizar cambios hasta que el thread actual termine de hacerlo.\n",
    "Algunos ejmplos del funcionamiento de locks se encuentran más adelante."
   ]
  },
  {
   "cell_type": "markdown",
   "metadata": {
    "slideshow": {
     "slide_type": "slide"
    }
   },
   "source": [
    "Con todo lo anterior, podemos ir aún más alla con threads y simular algo más realista, algo más cercano a ustedes y lo que viven todos los días. Algo como...\n",
    "\n",
    "Una pelea de robots!"
   ]
  },
  {
   "cell_type": "markdown",
   "metadata": {
    "slideshow": {
     "slide_type": "slide"
    }
   },
   "source": [
    "## AC21- 2030-3 : PDR\n",
    "\n",
    "Los robots han invadido al DCC!. Debido a causas totalmente creíbles y con mucho sentido, te ves obligado a simular una pelea de robots con el objetivo de defender el departamento!.\n",
    "Sin embargo, porque ~~no nos sirve tanto para explicar la materia~~ el dcc no quiere fomentar la clandestinidad, la pelea no será simplemente una lucha entre robots iguales, si no una alianza entre varios equipos de robots pequeños, para vencer un robot gigante que está intentando destruir el mundo (nuevamente, causa totalmente creíble y con sentido). \n",
    "\n",
    "Deberás modelar esta batalla entre 5 robots (cada uno con un estratega y piloto correspondiente) en un mapa de 100 x 100 coordenadas (las coordenadas van de 0 a 100 en cada eje). Por lo tanto, los robots deben poseer coordenadas de su posición actual.\n",
    "\n",
    "Condiciones iniciales.\n",
    "\n",
    "- Los robots comienzan en posiciones aleatorias\n",
    "- El mega robot comienza en posiciones aleatorias."
   ]
  },
  {
   "cell_type": "markdown",
   "metadata": {
    "slideshow": {
     "slide_type": "slide"
    }
   },
   "source": [
    "#### El Mega Robot\n",
    "\n",
    "El mega robot es el robot gigante con el cual deberán pelear. Este comienza con 5000 de vida, y solo ataca cuando es atacado, atacando siempre 100 de vida. Por otro lado, cada vez que este robot pierde 500 o más de vida, debe moverse a una nueva ubicación aleatoria en el mapa.\n",
    "\n",
    "El mega robot posee además una función `vulnerate(self, hash_num: int)` cuya existencia se justifica ~~para demostrar los contenidos mas adelante~~ con un accidente del diseñador del robot. En esta se ingresa una clave de hash (un número simplemente, que si es igual a la clave secreta del `MegaRobot`, este pierte 1000 de vida instantáneamente)"
   ]
  },
  {
   "cell_type": "code",
   "execution_count": null,
   "metadata": {
    "slideshow": {
     "slide_type": "subslide"
    }
   },
   "outputs": [],
   "source": [
    "import threading as thr\n",
    "import random\n",
    "import time\n",
    "\n",
    "class MegaRobot:\n",
    "    def __init__(self):\n",
    "        self.pos_lock = thr.Lock()\n",
    "        self.life_lock = thr.Lock()\n",
    "        self._life = 5 * 10**3\n",
    "        self.lf_check_pt = self._life  # última vez que perdió >= 500, se usa para checquear cuando debe moverse\n",
    "        self._x = random.randint(0, 99)\n",
    "        self._y = random.randint(0, 99)\n",
    "        self._secret_hash = random.randint(0, 50)\n",
    "    \n",
    "    def vulnerate(self, hash_num: int):\n",
    "        \"\"\" Revisa si la clave es correcta y hace el daño correspondiente\"\"\"\n",
    "        if self._secret_hash == hash_num:\n",
    "            print('Uh oh, MegaRobot vulnerado!')\n",
    "            self.life -= 1000\n",
    "    \n",
    "    def move(self, x: int, y: int):\n",
    "        self.x = x\n",
    "        self.y = y\n",
    "\n",
    "    def move_rand(self):\n",
    "        self.move(random.randint(0, 99), random.randint(0, 99))\n",
    "    \n",
    "    # Notar el uso de locks en todas estas properties\n",
    "    @property\n",
    "    def x(self):\n",
    "        with self.pos_lock:\n",
    "            return self._x\n",
    "\n",
    "    @property\n",
    "    def y(self):\n",
    "        with self.pos_lock:\n",
    "            return self._y\n",
    "\n",
    "    @x.setter\n",
    "    def x(self, value):\n",
    "        with self.pos_lock:\n",
    "            self._x = max(0, min(99, value))\n",
    "\n",
    "    @y.setter\n",
    "    def y(self, value):\n",
    "        with self.pos_lock:\n",
    "            self._y = max(0, min(99, value))\n",
    "\n",
    "    @property\n",
    "    def life(self):\n",
    "        with self.life_lock:\n",
    "            return self._life\n",
    "\n",
    "    @life.setter\n",
    "    def life(self, value: int):\n",
    "        with self.life_lock:\n",
    "            new_life = min(max(0, value), 5000)\n",
    "            if self.lf_check_pt - new_life >= 500:\n",
    "                self.lf_check_pt = new_life\n",
    "                self.move_rand()\n",
    "                print(f'El Mega Robot ha cambiado su ubicación! Ahora está en ({self.x},{self.y})')\n",
    "            else:\n",
    "                print(f'Mega robot atacado en ({self.x}, {self.y})')\n",
    "            self._life = new_life"
   ]
  },
  {
   "cell_type": "markdown",
   "metadata": {
    "slideshow": {
     "slide_type": "slide"
    }
   },
   "source": [
    "#### Los Robots\n",
    "Cada robot pequeño será manejado por un equipo de dos personas, un piloto y un estratega. Tienen 2000 de vida inicial y cada vez que atacan, infligen una cantidad aleatoria de daño, con valores entre 0 y 250.\n",
    "\n",
    "Como se esperaría, el piloto es el encargado de hacer que el robot se desplace y ataque, mientras que el estratega se encargará de buscar el punto débil del robot enemigo, para así ganar la pelea."
   ]
  },
  {
   "cell_type": "code",
   "execution_count": null,
   "metadata": {
    "slideshow": {
     "slide_type": "subslide"
    }
   },
   "outputs": [],
   "source": [
    "from itertools import count\n",
    "class Robot:\n",
    "    id_gen = count()  # Generamos ID unico para cada robot\n",
    "    def __init__(self, x: int, y: int):\n",
    "        self.pos_lock = thr.Lock()  # lock para posicion\n",
    "        self.life_lock = thr.Lock()  # lock para vida\n",
    "        self.robot_id = next(self.id_gen)\n",
    "        self._x = x\n",
    "        self._y = y\n",
    "        self._life = 2*10**3\n",
    "\n",
    "    def attempt_vulneration(self, mega_robot: MegaRobot, value: int):\n",
    "        mega_robot.vulnerate(value)\n",
    "        \n",
    "    def displace(self, x: int, y: int):\n",
    "        '''Desplaza al robot. No lo mueve a (x,y), lo desplaza un delta x y un delta y'''\n",
    "        with self.pos_lock:\n",
    "            self.x += x\n",
    "            self.y += y\n",
    "        \n",
    "    def attack(self, mega_robot: MegaRobot):\n",
    "        print(f'Robot {self.robot_id} atacando a Mega Robot')\n",
    "        mega_robot.life -= random.randint(0, 250)\n",
    "\n",
    "    @property\n",
    "    def life(self):\n",
    "        with self.life_lock:\n",
    "            return self._life\n",
    "\n",
    "    @life.setter\n",
    "    def life(self, value):\n",
    "        with self.life_lock:\n",
    "            self._life = min(max(0, value), 2000)\n",
    "\n",
    "    def __repr__(self):\n",
    "        return f'Robot {self.robot_id}'"
   ]
  },
  {
   "cell_type": "markdown",
   "metadata": {
    "slideshow": {
     "slide_type": "slide"
    }
   },
   "source": [
    "#### El Piloto\n",
    "El piloto será el encargado de cambiar la posición del robot cada cierto tiempo, entre 1 y 5 segundos, además de enviar la orden al robot, de intentar atacar, cada 2 movimientos de este. También, debido a la baja tecnología de nuestro planeta, los robots pueden moverse un bloque a la vez, en dirección aleatoria. Cada vez que el piloto decide enviar a su robot a atacar, deberá emitir una notificación al estratega, que es momento de intentar vulnerar al MegaRobot.\n",
    "\n",
    "Es importante mencionar que el piloto solo puede atacar cuando la distancia euclidiana entre su robot y el MegaRobot es menor a 70."
   ]
  },
  {
   "cell_type": "code",
   "execution_count": null,
   "metadata": {
    "slideshow": {
     "slide_type": "subslide"
    }
   },
   "outputs": [],
   "source": [
    "from itertools import cycle  # cycle crea un generador infinito que repite un iterable\n",
    "\n",
    "class Piloto(thr.Thread):\n",
    "    def __init__(self, robot: Robot, mega_robot: MegaRobot, *args, **kwargs):\n",
    "        super().__init__(*args, **kwargs)\n",
    "        self.robot = robot\n",
    "        self.mega = mega_robot\n",
    "        self.daemon = True\n",
    "        self.fired_signal = thr.Event()  # señal para avisar al estratega\n",
    "    \n",
    "    @property\n",
    "    def euclidean(self):\n",
    "        x = self.robot.x - self.mega.x\n",
    "        y = self.robot.y - self.mega.y\n",
    "        return (x**2 + y ** 2) ** 0.5\n",
    "    \n",
    "    def run(self):\n",
    "        moves = cycle(range(1,3))  # gen(1, 2, 1, 2, 1, 2, ...)\n",
    "        for move in moves:\n",
    "            if not self.robot.life or not self.mega.life:\n",
    "                return  # Si alguno muere, el run retorna y el thread termina\n",
    "\n",
    "            time.sleep(random.randint(1, 5))\n",
    "            dirs = ((0,1), (1,0), (0, -1), (-1, 0))\n",
    "            self.robot.displace(*random.choice(dirs))  # Se mueve\n",
    "            if move == 2 and self.euclidean < 70:  # Intenta atacar/vulnerar si es posible\n",
    "                self.robot.attack(self.mega)\n",
    "                self.robot.life -= 400\n",
    "                self.fired_signal.set()  # avisa al estratega"
   ]
  },
  {
   "cell_type": "markdown",
   "metadata": {
    "slideshow": {
     "slide_type": "slide"
    }
   },
   "source": [
    "#### El Estratega\n",
    "El estratega deberá observar cómo se desarrolla la pelea buscando puntos débiles del mega robot. Cuando el robot asociado a un estratega, ataca, este intentará vulnerar al MegRobot. Para esto debe usar la función provista por el MegaRobot `vulnerate` con un número aleatorio para intentar vulnerar las defensas del MegaRobot.\n",
    "\n",
    "Nuevamente, **solo es posible vulnerar al MegaRobot cuando el robot asociado al estratega, ataca.**. La única forma que el estratega se de cuenta de esto, es a través del Piloto, quien le avisará cuando puede vulnerar."
   ]
  },
  {
   "cell_type": "code",
   "execution_count": null,
   "metadata": {
    "slideshow": {
     "slide_type": "subslide"
    }
   },
   "outputs": [],
   "source": [
    "class Estratega(thr.Thread):\n",
    "    def __init__(self, robot: Robot, mega_robot: MegaRobot, signal: thr.Event, *args, **kwargs):\n",
    "        super().__init__(*args, **kwargs)\n",
    "        self.robot = robot\n",
    "        self.mega_robot = mega_robot\n",
    "        self.daemon = True\n",
    "        self.fired_signal = signal  # misma señal que el piloto del mismo robot\n",
    "\n",
    "    def run(self):\n",
    "        while self.robot.life and self.mega_robot.life:  # continua mientras viva y viva el enemigo\n",
    "            self.fired_signal.wait()  # espera la señal del piloto\n",
    "            print('Intentando vulnerar mega robot...')\n",
    "            self.robot.attempt_vulneration(self.mega_robot, random.randint(0, 100))   \n",
    "            self.fired_signal.clear()  # reinicia la señal para que se pueda seguir usando"
   ]
  },
  {
   "cell_type": "markdown",
   "metadata": {
    "slideshow": {
     "slide_type": "slide"
    }
   },
   "source": [
    "Finalmente, cuando el Mega Robot, haya perdido 100% de su vida, debes terminar la batalla y retornar todos los robots vencedores."
   ]
  },
  {
   "cell_type": "code",
   "execution_count": null,
   "metadata": {
    "slideshow": {
     "slide_type": "subslide"
    }
   },
   "outputs": [],
   "source": [
    "def sim_battle():\n",
    "    mega = MegaRobot()\n",
    "    estrategas = []\n",
    "    pilots = []\n",
    "    robots = []\n",
    "    \n",
    "    # Crea las instancias de Robots, Pilotos y Estrategas\n",
    "    for _ in range(5):\n",
    "        robot  = Robot(random.randint(0,99), random.randint(0, 99))\n",
    "        robots.append(robot)\n",
    "        pilot = Piloto(robot, mega)\n",
    "        pilots.append(pilot)\n",
    "        estrategas.append(Estratega(robot, mega, pilot.fired_signal))\n",
    "    \n",
    "    # Inicia los threads para estrategas y pilotos\n",
    "    for e, p in zip(estrategas, pilots):\n",
    "        p.start()\n",
    "        e.start()\n",
    "    \n",
    "    # Dado que todos nuestros threads son daemon es necesario hacer join para que el programa funcione\n",
    "    for e, p in zip(estrategas, pilots):\n",
    "        e.join()\n",
    "        p.join()\n",
    "        \n",
    "    # Cuando todos los threads anteriores Pilotos/Estrategas terminen, es porque se acabó la batalla y se puede\n",
    "    # continuar ejecutando, recordar que solo se llega a esta linea si todos terminan por los join anteriores\n",
    "    print('Batalla terminada!')\n",
    "    return list(filter(lambda r: bool(r.life), robots))"
   ]
  },
  {
   "cell_type": "code",
   "execution_count": null,
   "metadata": {
    "slideshow": {
     "slide_type": "subslide"
    }
   },
   "outputs": [],
   "source": [
    "sim_battle()"
   ]
  }
 ],
 "metadata": {
  "kernelspec": {
   "display_name": "Python 3",
   "language": "python",
   "name": "python3"
  },
  "language_info": {
   "codemirror_mode": {
    "name": "ipython",
    "version": 3
   },
   "file_extension": ".py",
   "mimetype": "text/x-python",
   "name": "python",
   "nbconvert_exporter": "python",
   "pygments_lexer": "ipython3",
   "version": "3.6.5"
  }
 },
 "nbformat": 4,
 "nbformat_minor": 2
}
